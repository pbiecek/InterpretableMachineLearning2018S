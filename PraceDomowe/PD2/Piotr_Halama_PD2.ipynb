{
 "cells": [
  {
   "cell_type": "code",
   "execution_count": 1,
   "metadata": {},
   "outputs": [],
   "source": [
    "import pandas as pd\n",
    "import numpy as np\n",
    "from matplotlib import pyplot as plt\n",
    "\n",
    "from sklearn.metrics import f1_score\n",
    "from sklearn.model_selection import train_test_split\n",
    "\n",
    "from lightgbm import LGBMClassifier"
   ]
  },
  {
   "cell_type": "markdown",
   "metadata": {},
   "source": [
    "##### Data"
   ]
  },
  {
   "cell_type": "code",
   "execution_count": 2,
   "metadata": {},
   "outputs": [],
   "source": [
    "data = pd.read_stata('../../../../HCMST 2017 fresh sample for public sharing draft v1.1.dta')"
   ]
  },
  {
   "cell_type": "code",
   "execution_count": 3,
   "metadata": {},
   "outputs": [
    {
     "data": {
      "text/plain": [
       "['CaseID',\n",
       " 'CASEID_NEW',\n",
       " 'qflag',\n",
       " 'weight1',\n",
       " 'weight1_freqwt',\n",
       " 'weight2',\n",
       " 'weight1a',\n",
       " 'weight1a_freqwt',\n",
       " 'weight_combo',\n",
       " 'weight_combo_freqwt',\n",
       " 'speed_flag',\n",
       " 'consent',\n",
       " 'xlgb',\n",
       " 'S1',\n",
       " 'S2',\n",
       " 'S3',\n",
       " 'DOV_Branch',\n",
       " 'Q3_Refused',\n",
       " 'Q4',\n",
       " 'Q6B',\n",
       " 'Q10',\n",
       " 'Q11',\n",
       " 'Q14',\n",
       " 'Q15A7',\n",
       " 'Q16_Refused',\n",
       " 'Q17A',\n",
       " 'Q17B',\n",
       " 'Q17C',\n",
       " 'Q17D',\n",
       " 'Q20',\n",
       " 'Q21A_Month',\n",
       " 'Q21B_Year',\n",
       " 'Q21B_Month',\n",
       " 'Q21C_Year',\n",
       " 'Q21C_Month',\n",
       " 'Q21D_Year',\n",
       " 'Q21D_Month',\n",
       " 'w6_identity',\n",
       " 'w6_outness',\n",
       " 'w6_outness_timing',\n",
       " 'Q24_Refused',\n",
       " 'w6_friend_connect_1',\n",
       " 'w6_friend_connect_2',\n",
       " 'w6_friend_connect_3',\n",
       " 'w6_friend_connect_Refused',\n",
       " 'Q32',\n",
       " 'Q34',\n",
       " 'Q35_Refused',\n",
       " 'w6_how_meet_Refused',\n",
       " 'w6_otherdate_app',\n",
       " 'w6_how_many_app',\n",
       " 'Past_Partner_Q1',\n",
       " 'w6_relationship_end_nonmar',\n",
       " 'w6_breakup_nonmar',\n",
       " 'w6_relationship_end_mar',\n",
       " 'w6_who_breakup',\n",
       " 'Q5_2',\n",
       " 'Q6A_2',\n",
       " 'Q9B_2',\n",
       " 'Q10_2',\n",
       " 'Q11_2',\n",
       " 'Q12_2',\n",
       " 'Q14_2',\n",
       " 'Q15A7_2_1',\n",
       " 'Q16_2',\n",
       " 'Q16_2_Codes',\n",
       " 'Q17B_2',\n",
       " 'Q17C_2',\n",
       " 'Q17D_2',\n",
       " 'Q20_2',\n",
       " 'Q21A_2_Year',\n",
       " 'Q21A_2_Month',\n",
       " 'Q21B_2_Year',\n",
       " 'Q21B_2_Month',\n",
       " 'Q21C_2_Year',\n",
       " 'Q21C_2_Month',\n",
       " 'Q21D_2_Year',\n",
       " 'Q21D_2_Month',\n",
       " 'Q21E_2_Year',\n",
       " 'Q21E_2_Month',\n",
       " 'Q21F_2_start_range',\n",
       " 'Q21F_2_Year',\n",
       " 'Q21F_2_Month',\n",
       " 'w6_identity_2',\n",
       " 'w6_outness_2',\n",
       " 'w6_outness_timing_2',\n",
       " 'Q23_2',\n",
       " 'Q27_2',\n",
       " 'Q28_2',\n",
       " 'w6_friend_connect_2_1',\n",
       " 'w6_friend_connect_2_2',\n",
       " 'w6_friend_connect_2_3',\n",
       " 'w6_friend_connect_2_4',\n",
       " 'w6_friend_connect_2_Refused',\n",
       " 'Q32_2',\n",
       " 'w6_otherdate_2',\n",
       " 'w6_how_many_2',\n",
       " 'w6_otherdate_app_2',\n",
       " 'w6_how_many_app_2',\n",
       " 'PERSNET_hom',\n",
       " 'ppc10017',\n",
       " 'ppp20071',\n",
       " 'ppagecat',\n",
       " 'ppagect4',\n",
       " 'pphhhead',\n",
       " 'pphouse',\n",
       " 'ppmsacat',\n",
       " 'PPREG4',\n",
       " 'ppreg9',\n",
       " 'pprent',\n",
       " 'PPT01',\n",
       " 'PPT25',\n",
       " 'PPT612',\n",
       " 'PPT1317',\n",
       " 'PPT18OV',\n",
       " 'Race_1',\n",
       " 'Race_2',\n",
       " 'Race_3',\n",
       " 'Race_4',\n",
       " 'Race_5',\n",
       " 'Race_6',\n",
       " 'race1',\n",
       " 'race2',\n",
       " 'race3',\n",
       " 'race4',\n",
       " 'race5',\n",
       " 'race6',\n",
       " 'race7',\n",
       " 'race8',\n",
       " 'race9',\n",
       " 'race10',\n",
       " 'race11',\n",
       " 'race12',\n",
       " 'race13',\n",
       " 'race14',\n",
       " 'race15',\n",
       " 'w6_took_the_survey',\n",
       " 'w6_prior_identity_lgb',\n",
       " 'w6_same_sex_couple',\n",
       " 'w6_same_sex_couple_gender',\n",
       " 'w6_q4',\n",
       " 'w6_q5',\n",
       " 'w6_q6a',\n",
       " 'w6_q6b',\n",
       " 'w6_q10',\n",
       " 'w6_q11',\n",
       " 'w6_q12',\n",
       " 'w6_q14',\n",
       " 'w6_q15a1_truncated',\n",
       " 'w6_q15a4_truncated',\n",
       " 'w6_q15a7',\n",
       " 'w6_attraction',\n",
       " 'w6_q20',\n",
       " 'w6_q21a_month',\n",
       " 'w6_q21a_month_flag',\n",
       " 'w6_q21b_month',\n",
       " 'w6_q21b_month_flag',\n",
       " 'w6_q21c_month',\n",
       " 'w6_q21c_month_flag',\n",
       " 'w6_q21d_year',\n",
       " 'w6_q21d_month',\n",
       " 'w6_q21e_year',\n",
       " 'w6_q21e_month',\n",
       " 'w6_q21f_year',\n",
       " 'w6_q21f_month',\n",
       " 'w6_identity_all',\n",
       " 'w6_outness_all',\n",
       " 'w6_outness_timing_all',\n",
       " 'w6_q25',\n",
       " 'w6_q26',\n",
       " 'w6_q28',\n",
       " 'w6_friend_connect_1_all',\n",
       " 'w6_friend_connect_2_all',\n",
       " 'w6_friend_connect_3_all',\n",
       " 'w6_friend_connect_4_all',\n",
       " 'w6_how_many_all',\n",
       " 'w6_otherdate_app_all',\n",
       " 'w6_how_many_app_all',\n",
       " 'w6_married',\n",
       " 'w6_number_people_met_app',\n",
       " 'weight_combo_v2',\n",
       " 'partnership_status',\n",
       " 'female',\n",
       " 'year_fraction_relstart',\n",
       " 'year_fraction_first_cohab',\n",
       " 'hcm2017q24_R_cowork',\n",
       " 'hcm2017q24_R_friend',\n",
       " 'hcm2017q24_R_family',\n",
       " 'hcm2017q24_R_sig_other',\n",
       " 'hcm2017q24_R_neighbor',\n",
       " 'hcm2017q24_P_cowork',\n",
       " 'hcm2017q24_P_friend',\n",
       " 'hcm2017q24_P_family',\n",
       " 'hcm2017q24_P_sig_other',\n",
       " 'hcm2017q24_P_neighbor',\n",
       " 'hcm2017q24_btwn_I_cowork',\n",
       " 'hcm2017q24_btwn_I_friend',\n",
       " 'hcm2017q24_btwn_I_family',\n",
       " 'hcm2017q24_school',\n",
       " 'hcm2017q24_mil',\n",
       " 'hcm2017q24_vol_org',\n",
       " 'hcm2017q24_customer',\n",
       " 'hcm2017q24_party',\n",
       " 'hcm2017q24_internet_other',\n",
       " 'hcm2017q24_internet_soc_network',\n",
       " 'hcm2017q24_internet_game',\n",
       " 'hcm2017q24_internet_chat',\n",
       " 'hcm2017q24_internet_org',\n",
       " 'hcm2017q24_public',\n",
       " 'hcm2017q24_blind_date',\n",
       " 'hcm2017q24_vacation',\n",
       " 'hcm2017q24_single_serve_nonint',\n",
       " 'hcm2017q24_business_trip',\n",
       " 'hcm2017q24_work_neighbors',\n",
       " 'hcm2017_q24_length',\n",
       " 'hcm2017q24_summary_all_codes',\n",
       " 'w6_relationship_quality',\n",
       " 'hcm2017q24_met_through_family',\n",
       " 'hcm2017q24_met_through_friend',\n",
       " 'hcm2017q24_met_through_as_nghbrs',\n",
       " 'hcm2017q24_met_as_through_cowork',\n",
       " 'w6_subject_race',\n",
       " 'interracial_5cat',\n",
       " 'subject_mother_yrsed',\n",
       " 'subject_yrsed']"
      ]
     },
     "execution_count": 3,
     "metadata": {},
     "output_type": "execute_result"
    }
   ],
   "source": [
    "# Removing columns used by others\n",
    "used_variables = {\n",
    "    \"ppwork\",\"w6_q19\",\"Q21A_Year\",\"ppage\",\n",
    "    'Q9', 'Q19', 'Q26', 'ppage',\n",
    "    'ppethm', 'age_when_met', 'Q27', 'w6_sex_frequency', 'ppage',\n",
    "    'Q16', 'pphhsize', 'hcm2017q24_church', 'w6_otherdate_all',\n",
    "    \"time_from_rel_to_cohab\", \"w6_q24_length\", \"hcm2017q24_church\", \"hcm2017q24_btwn_I_sig_other\",\n",
    "    'w6_q24_length', 'w6_q21b_year', 'w6_q34', 'w6_otherdate_dichotomous',\n",
    "    'ppincimp', 'partyid7', 'ppwork', 'Q6A',\n",
    "    \"age_difference\",\"q26\",\"ppeducat\",\"q24_met_online\",\"how_long_relationship\",\"q16\",\n",
    "    'pphhsize', 'relate_duration_at_w6_years', 'w6_friend_connect_4', 'w6_otherdate',\n",
    "    \"ppeduc\", \"q25\", \"q12\", \"q34\",\n",
    "    'w6_q17', 'w6_q24_length', 'w6_number_people_met',\n",
    "    \"Q5\", \"Q9\", \"Q16\", \"w6_sex_frequency\", \"partner_yrsed\",\n",
    "    'Q23', 'Q28', 'ppp20072', 'w6_how_many',\n",
    "    'ppage', 'w6_q24_length', 'w6_sex_frequency', 'w6_q23', 'w6_q27',\n",
    "    'w6_q16', 'time_from_met_to_rel', 'ppgender', 'ppwork',\n",
    "    'Q25', 'ppmarit', 'ppincimp', 'Q16',\n",
    "    \"Q5\", \"Q25_2\", \"Q26_2\",  \"hcm2017q24_met_online\", \"w6_q9\", \"w6_q24_length\",\n",
    "    'partner_mother_yrsed', 'partner_yrsed', 'Q19', 'w6_q32',\n",
    "    'hcm2017q24_btwn_I_neighbor', 'w6_otherdate_all', 'w6_q21c_year', 'year_fraction_met',\n",
    "    'ppage', 'ppincimp', 'ppp20072', 'Q25',\n",
    "    \"time_from_rel_to_cohab\",\"hcm2017q24_college\", \"hcm2017q24_bar_restaurant\", \"partner_yrsed\",\n",
    "    'time_from_met_to_rel', 'time_from_rel_to_cohab','Q25', 'Q12', \n",
    "    'ppc21310', 'w6_q9', 'w6_q21a_year','hcm2017q24_internet_dating', 'duration',\n",
    "}\n",
    "unused_variables = [col for col in data.columns if col not in used_variables]\n",
    "unused_variables"
   ]
  },
  {
   "cell_type": "markdown",
   "metadata": {},
   "source": [
    "Chosen variables:"
   ]
  },
  {
   "cell_type": "code",
   "execution_count": 4,
   "metadata": {},
   "outputs": [],
   "source": [
    "variables = ['w6_q21d_month', 'w6_q21d_year', 'w6_q25', 'w6_q26']"
   ]
  },
  {
   "cell_type": "code",
   "execution_count": 5,
   "metadata": {},
   "outputs": [],
   "source": [
    "X = data[variables]\n",
    "y = data['S1']\n",
    "\n",
    "X = X[pd.notnull(y)]\n",
    "y = y[pd.notnull(y)]\n",
    "\n",
    "months = ['January', 'Febuary', 'March', 'April', 'May', 'June', 'July', 'August', 'September', 'October', 'November', 'December']\n",
    "years = list(range(1940, 2020))\n",
    "\n",
    "X['w6_q21d_month'] = X['w6_q21d_month'].astype('category').cat.set_categories(months, ordered=True)\n",
    "\n",
    "X['w6_q25'] = X['w6_q25'].astype('category').cat.as_unordered()\n",
    "X['w6_q26'] = X['w6_q26'].astype('category').cat.as_unordered()\n",
    "q25_space = list(X['w6_q25'].cat.categories)\n",
    "q26_space = list(X['w6_q26'].cat.categories)\n",
    "\n",
    "y = y.astype('category')"
   ]
  },
  {
   "cell_type": "code",
   "execution_count": 6,
   "metadata": {},
   "outputs": [],
   "source": [
    "X_train, X_test, y_train, y_test = train_test_split(X, y, test_size=0.1, random_state=0xDEADBEEF)"
   ]
  },
  {
   "cell_type": "markdown",
   "metadata": {},
   "source": [
    "##### Model"
   ]
  },
  {
   "cell_type": "code",
   "execution_count": 7,
   "metadata": {},
   "outputs": [
    {
     "data": {
      "text/plain": [
       "LGBMClassifier(boosting_type='gbdt', class_weight=None, colsample_bytree=1.0,\n",
       "        importance_type='split', learning_rate=0.1, max_depth=-1,\n",
       "        min_child_samples=20, min_child_weight=0.001, min_split_gain=0.0,\n",
       "        n_estimators=100, n_jobs=-1, num_leaves=31, objective=None,\n",
       "        random_state=None, reg_alpha=0.0, reg_lambda=0.0, silent=True,\n",
       "        subsample=1.0, subsample_for_bin=200000, subsample_freq=0)"
      ]
     },
     "execution_count": 7,
     "metadata": {},
     "output_type": "execute_result"
    }
   ],
   "source": [
    "clf = LGBMClassifier()\n",
    "clf.fit(X_train, y_train)"
   ]
  },
  {
   "cell_type": "code",
   "execution_count": 8,
   "metadata": {},
   "outputs": [],
   "source": [
    "y_pred = clf.predict(X_test)"
   ]
  },
  {
   "cell_type": "code",
   "execution_count": 9,
   "metadata": {},
   "outputs": [
    {
     "data": {
      "text/plain": [
       "0.9569377990430622"
      ]
     },
     "execution_count": 9,
     "metadata": {},
     "output_type": "execute_result"
    }
   ],
   "source": [
    "f1_score(y_test, y_pred, pos_label='Yes, I am Married')"
   ]
  },
  {
   "cell_type": "markdown",
   "metadata": {},
   "source": [
    "##### Ceteris Paribus"
   ]
  },
  {
   "cell_type": "code",
   "execution_count": 10,
   "metadata": {},
   "outputs": [],
   "source": [
    "def ceteris_paribus(clf, x: dict, var: str, space: list, dtypes):\n",
    "    Xcp = pd.DataFrame([{**x, var: z} for z in space])\n",
    "    \n",
    "    # Fix types\n",
    "    for var, dtype in dtypes.iteritems():\n",
    "        Xcp[var] = Xcp[var].astype(dtype)\n",
    "\n",
    "    Xcp['prob'] = clf.predict_proba(Xcp)[:, 1]\n",
    "    \n",
    "    return Xcp\n",
    "\n",
    "def ceteris_paribus_plot(clf, x, var, space, dtypes):\n",
    "    Xcp = ceteris_paribus(clf, x, var, space, dtypes)\n",
    "    plt.ylim(-0.01, 1.01)\n",
    "    plt.plot(list(Xcp[var]), Xcp['prob'])\n",
    "    plt.plot(x[var], Xcp[Xcp[var] == x[var]]['prob'], 'o')\n",
    "    plt.xlabel(var)"
   ]
  },
  {
   "cell_type": "code",
   "execution_count": 11,
   "metadata": {},
   "outputs": [
    {
     "data": {
      "image/png": "[encoded data removed]",
      "text/plain": [
       "<Figure size 1080x360 with 1 Axes>"
      ]
     },
     "metadata": {
      "needs_background": "light"
     },
     "output_type": "display_data"
    }
   ],
   "source": [
    "plt.figure(figsize=(15,5))\n",
    "ceteris_paribus_plot(\n",
    "    clf, \n",
    "    {'w6_q21d_month': 'October',\n",
    "     'w6_q21d_year': 1978.0,\n",
    "     'w6_q25': 'Different High School',\n",
    "     'w6_q26': 1.0},\n",
    "    var='w6_q21d_month',\n",
    "    space=months,\n",
    "    dtypes=X_train.dtypes\n",
    ")"
   ]
  },
  {
   "cell_type": "code",
   "execution_count": 12,
   "metadata": {},
   "outputs": [
    {
     "data": {
      "image/png": "[encoded data removed]",
      "text/plain": [
       "<Figure size 1080x360 with 1 Axes>"
      ]
     },
     "metadata": {
      "needs_background": "light"
     },
     "output_type": "display_data"
    }
   ],
   "source": [
    "plt.figure(figsize=(15,5))\n",
    "ceteris_paribus_plot(\n",
    "    clf, \n",
    "    {'w6_q21d_month': 'October',\n",
    "     'w6_q21d_year': 1978.0,\n",
    "     'w6_q25': 'Different High School',\n",
    "     'w6_q26': 1.0},\n",
    "    var='w6_q21d_year',\n",
    "    space=years,\n",
    "    dtypes=X_train.dtypes\n",
    ")"
   ]
  },
  {
   "cell_type": "markdown",
   "metadata": {},
   "source": [
    "##### Marginal Effects"
   ]
  },
  {
   "cell_type": "code",
   "execution_count": 13,
   "metadata": {},
   "outputs": [],
   "source": [
    "def marginal_effects_discrete(clf, var: str, X: pd.DataFrame):\n",
    "    Xm = X.copy()\n",
    "    Xm['prob'] = clf.predict_proba(Xm)[:, 1]\n",
    "    \n",
    "    Xm = Xm[['prob', var]].groupby(var).mean().reset_index()\n",
    "    \n",
    "    Xm.loc[pd.isna(Xm['prob']), 'prob'] = 0.0\n",
    "    \n",
    "    return Xm\n",
    "\n",
    "def marginal_effects_continuous(clf, var: str, X: pd.DataFrame, window):\n",
    "    Xm = X.copy()\n",
    "    Xm['prob'] = clf.predict_proba(Xm)[:, 1]\n",
    "    \n",
    "    Xm = Xm[['prob', var]]\n",
    "    Xm = Xm[pd.notna(Xm[var])]\n",
    "    \n",
    "    Xm = Xm.groupby(var).agg({'prob': ['sum', 'count']})\n",
    "    Xm = Xm.apply(lambda x: Xm.loc[(Xm.index > x.name - window/2.0) & (Xm.index < x.name + window/2.0)]['prob'].sum(), axis=1)\n",
    "    Xm = Xm.apply(lambda x: x['sum']/x['count'], axis=1).rename('prob').reset_index()\n",
    "    \n",
    "    # Xm.loc[pd.isna(Xm['prob']), 'prob'] = 0.0\n",
    "    \n",
    "    return Xm\n",
    "\n",
    "def marginal_effects_plot(Xm, var):\n",
    "    plt.ylim(-0.01, 1.01)\n",
    "    plt.plot(list(Xm[var]), Xm['prob'])\n",
    "    plt.xlabel(var)"
   ]
  },
  {
   "cell_type": "code",
   "execution_count": 14,
   "metadata": {},
   "outputs": [
    {
     "data": {
      "image/png": "[encoded data removed]",
      "text/plain": [
       "<Figure size 1080x360 with 1 Axes>"
      ]
     },
     "metadata": {
      "needs_background": "light"
     },
     "output_type": "display_data"
    }
   ],
   "source": [
    "Xm = marginal_effects_discrete(clf, 'w6_q21d_month', X)\n",
    "plt.figure(figsize=(15,5))\n",
    "marginal_effects_plot(Xm, 'w6_q21d_month')"
   ]
  },
  {
   "cell_type": "code",
   "execution_count": 15,
   "metadata": {},
   "outputs": [
    {
     "data": {
      "image/png": "[encoded data removed]",
      "text/plain": [
       "<Figure size 1080x360 with 1 Axes>"
      ]
     },
     "metadata": {
      "needs_background": "light"
     },
     "output_type": "display_data"
    }
   ],
   "source": [
    "Xm = marginal_effects_continuous(clf, 'w6_q21d_year', X, window=3.0)\n",
    "plt.figure(figsize=(15,5))\n",
    "marginal_effects_plot(Xm, 'w6_q21d_year')"
   ]
  }
 ],
 "metadata": {
  "kernelspec": {
   "display_name": "Python (xai)",
   "language": "python",
   "name": "python_xai"
  },
  "language_info": {
   "codemirror_mode": {
    "name": "ipython",
    "version": 3
   },
   "file_extension": ".py",
   "mimetype": "text/x-python",
   "name": "python",
   "nbconvert_exporter": "python",
   "pygments_lexer": "ipython3",
   "version": "3.7.2"
  }
 },
 "nbformat": 4,
 "nbformat_minor": 2
}
