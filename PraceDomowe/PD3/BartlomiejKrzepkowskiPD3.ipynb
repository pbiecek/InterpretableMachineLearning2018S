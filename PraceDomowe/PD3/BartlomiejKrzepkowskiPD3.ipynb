{
 "cells": [
  {
   "cell_type": "code",
   "execution_count": 1,
   "metadata": {},
   "outputs": [],
   "source": [
    "import numpy as np\n",
    "import pandas as pd\n",
    "import matplotlib.pyplot as plt\n",
    "from scipy import stats"
   ]
  },
  {
   "cell_type": "code",
   "execution_count": 2,
   "metadata": {},
   "outputs": [],
   "source": [
    "from sklearn.model_selection import RandomizedSearchCV\n",
    "from xgboost import XGBClassifier, plot_importance"
   ]
  },
  {
   "cell_type": "code",
   "execution_count": 3,
   "metadata": {},
   "outputs": [],
   "source": [
    "import waterfall_chart"
   ]
  },
  {
   "cell_type": "code",
   "execution_count": 4,
   "metadata": {},
   "outputs": [],
   "source": [
    "import seaborn as sns\n",
    "sns.set_style(\"white\")"
   ]
  },
  {
   "cell_type": "code",
   "execution_count": 5,
   "metadata": {},
   "outputs": [],
   "source": [
    "%matplotlib inline"
   ]
  },
  {
   "cell_type": "markdown",
   "metadata": {},
   "source": [
    "# Dane"
   ]
  },
  {
   "cell_type": "code",
   "execution_count": 6,
   "metadata": {},
   "outputs": [],
   "source": [
    "DATA_PATH = \"Datasets/HCMST 2017 fresh sample for public sharing draft v1.1.dta\""
   ]
  },
  {
   "cell_type": "code",
   "execution_count": 7,
   "metadata": {},
   "outputs": [],
   "source": [
    "df = pd.read_stata(DATA_PATH)"
   ]
  },
  {
   "cell_type": "code",
   "execution_count": 8,
   "metadata": {},
   "outputs": [],
   "source": [
    "target = [\"S1\"]\n",
    "cat_feat = ['hcm2017q24_school', 'PPT612']\n",
    "float_feat = ['w6_q21a_year', 'weight_combo_v2']\n",
    "feat = cat_feat + float_feat + target"
   ]
  },
  {
   "cell_type": "code",
   "execution_count": 9,
   "metadata": {},
   "outputs": [],
   "source": [
    "df = df[feat]\n",
    "df = df.dropna()\n",
    "df[cat_feat] = df[cat_feat].apply(lambda x: x.cat.codes, axis=0)\n",
    "df[target] = (df[target] == \"Yes, I am Married\").astype(int)"
   ]
  },
  {
   "cell_type": "code",
   "execution_count": 10,
   "metadata": {},
   "outputs": [],
   "source": [
    "df_X = df[feat[:-1]]\n",
    "df_y = df[target]"
   ]
  },
  {
   "cell_type": "markdown",
   "metadata": {},
   "source": [
    "# Model"
   ]
  },
  {
   "cell_type": "code",
   "execution_count": 11,
   "metadata": {},
   "outputs": [],
   "source": [
    "X = df_X.values\n",
    "y = df_y.values"
   ]
  },
  {
   "cell_type": "code",
   "execution_count": 12,
   "metadata": {},
   "outputs": [
    {
     "name": "stderr",
     "output_type": "stream",
     "text": [
      "/usr/local/lib/python3.6/dist-packages/sklearn/preprocessing/label.py:219: DataConversionWarning: A column-vector y was passed when a 1d array was expected. Please change the shape of y to (n_samples, ), for example using ravel().\n",
      "  y = column_or_1d(y, warn=True)\n",
      "/usr/local/lib/python3.6/dist-packages/sklearn/preprocessing/label.py:252: DataConversionWarning: A column-vector y was passed when a 1d array was expected. Please change the shape of y to (n_samples, ), for example using ravel().\n",
      "  y = column_or_1d(y, warn=True)\n"
     ]
    },
    {
     "data": {
      "text/plain": [
       "RandomizedSearchCV(cv=5, error_score='raise-deprecating',\n",
       "          estimator=XGBClassifier(base_score=0.5, booster='gbtree', colsample_bylevel=1,\n",
       "       colsample_bytree=1, gamma=0, learning_rate=0.1, max_delta_step=0,\n",
       "       max_depth=3, min_child_weight=1, missing=None, n_estimators=100,\n",
       "       n_jobs=1, nthread=None, objective='binary:logistic', random_state=0,\n",
       "       reg_alpha=0, reg_lambda=1, scale_pos_weight=1, seed=42, silent=True,\n",
       "       subsample=1),\n",
       "          fit_params=None, iid='warn', n_iter=25, n_jobs=-1,\n",
       "          param_distributions={'n_estimators': <scipy.stats._distn_infrastructure.rv_frozen object at 0x7fd5410cc550>, 'learning_rate': array([0.01, 0.02, 0.03, 0.04, 0.05, 0.06, 0.07, 0.08, 0.09, 0.1 ]), 'subsample': [0.6, 0.7, 0.8, 0.9], 'colsample_bytree': <scipy.stats._distn_infrastructure.rv_frozen object at 0x7fd5410ccf28>, 'max_depth': [3, 4, 5, 6, 7, 8, 9], 'min_child_weight': [1, 2, 4, 6, 8, 10, 12], 'gamma': [0.0, 0.1, 0.2, 0.3, 0.4]},\n",
       "          pre_dispatch='2*n_jobs', random_state=None, refit=True,\n",
       "          return_train_score='warn', scoring='f1', verbose=0)"
      ]
     },
     "execution_count": 12,
     "metadata": {},
     "output_type": "execute_result"
    }
   ],
   "source": [
    "fix_params = {'objective': 'binary:logistic', \"seed\": 42}\n",
    "param_dist = {\n",
    "    'n_estimators': stats.randint(150, 500),\n",
    "    'learning_rate': np.linspace(0.01,0.1, 10),\n",
    "    'subsample':[i/10.0 for i in range(6,10)],\n",
    "    'colsample_bytree':[i/10.0 for i in range(6,10)],\n",
    "    'max_depth': [3, 4, 5, 6, 7, 8, 9],\n",
    "    'colsample_bytree': stats.uniform(0.5, 0.45),\n",
    "    'min_child_weight':[1, 2, 4, 6, 8, 10, 12],\n",
    "    'gamma':[i/10.0 for i in range(0,5)]\n",
    "             }\n",
    "clf = RandomizedSearchCV(estimator=XGBClassifier(**fix_params), param_distributions = param_dist, n_iter = 25, scoring = 'f1', cv=5, n_jobs = -1)\n",
    "clf.fit(X,y)"
   ]
  },
  {
   "cell_type": "code",
   "execution_count": 13,
   "metadata": {},
   "outputs": [
    {
     "data": {
      "text/plain": [
       "XGBClassifier(base_score=0.5, booster='gbtree', colsample_bylevel=1,\n",
       "       colsample_bytree=0.8088646613567898, gamma=0.0, learning_rate=0.01,\n",
       "       max_delta_step=0, max_depth=6, min_child_weight=12, missing=None,\n",
       "       n_estimators=259, n_jobs=1, nthread=None,\n",
       "       objective='binary:logistic', random_state=0, reg_alpha=0,\n",
       "       reg_lambda=1, scale_pos_weight=1, seed=42, silent=True,\n",
       "       subsample=0.6)"
      ]
     },
     "execution_count": 13,
     "metadata": {},
     "output_type": "execute_result"
    }
   ],
   "source": [
    "best_params = {**clf.best_params_, **fix_params}\n",
    "clf_xgb = XGBClassifier(**best_params)\n",
    "clf_xgb.fit(X,y)"
   ]
  },
  {
   "cell_type": "markdown",
   "metadata": {},
   "source": [
    "# Zmiana w średniej odpowiedzi modelu"
   ]
  },
  {
   "cell_type": "code",
   "execution_count": 14,
   "metadata": {},
   "outputs": [],
   "source": [
    "def mean_per_respon(df, model, attrs, values):\n",
    "    df = df.copy()\n",
    "    means = []\n",
    "    attrs = np.array(attrs)\n",
    "    per = np.random.permutation(4)\n",
    "    means.append(model.predict_proba(df.values)[:,1].mean())\n",
    "    for i in range(4):\n",
    "        df[attrs[per][i]] = values[per][i]\n",
    "        means.append(model.predict_proba(df.values)[:,1].mean())\n",
    "        \n",
    "    df_means = pd.DataFrame(data={\"means\":means}, index = ['intercept'] + list(attrs[per]))\n",
    "    df_means['means'] = df_means['means'].diff().fillna(df_means['means'])\n",
    "    waterfall_chart.plot(index=df_means.index, data=df_means[\"means\"], rotation_value=90, formatting='{:,.3f}', Title=\"Zmiany w średnich\")"
   ]
  },
  {
   "cell_type": "code",
   "execution_count": 15,
   "metadata": {},
   "outputs": [],
   "source": [
    "obs = 480"
   ]
  },
  {
   "cell_type": "code",
   "execution_count": 16,
   "metadata": {},
   "outputs": [
    {
     "data": {
      "image/png": "[encoded data removed]",
      "text/plain": [
       "<Figure size 432x288 with 1 Axes>"
      ]
     },
     "metadata": {
      "needs_background": "light"
     },
     "output_type": "display_data"
    }
   ],
   "source": [
    "mean_per_respon(df_X, clf_xgb, feat[:-1], X[obs])"
   ]
  },
  {
   "cell_type": "code",
   "execution_count": 17,
   "metadata": {},
   "outputs": [
    {
     "data": {
      "image/png": "[encoded data removed]",
      "text/plain": [
       "<Figure size 432x288 with 1 Axes>"
      ]
     },
     "metadata": {
      "needs_background": "light"
     },
     "output_type": "display_data"
    }
   ],
   "source": [
    "mean_per_respon(df_X, clf_xgb, feat[:-1], X[obs])"
   ]
  },
  {
   "cell_type": "markdown",
   "metadata": {},
   "source": [
    "# Wnioski:\n",
    "Próbowałem paru roznych obserwacji z paroma roznymi losowymi ustawieniami zmiennych, lecz efekt utrzymywał sie w podobnym zakresie. Byc moze jest to spowodowane tym, że od poczatku wybralem cechy nieskorelowane ze sobą, oraz użyłem grid searcha do przeszukania modelu dającego dobre wyniki."
   ]
  }
 ],
 "metadata": {
  "kernelspec": {
   "display_name": "Python 3",
   "language": "python",
   "name": "python3"
  },
  "language_info": {
   "codemirror_mode": {
    "name": "ipython",
    "version": 3
   },
   "file_extension": ".py",
   "mimetype": "text/x-python",
   "name": "python",
   "nbconvert_exporter": "python",
   "pygments_lexer": "ipython3",
   "version": "3.6.7"
  }
 },
 "nbformat": 4,
 "nbformat_minor": 2
}
